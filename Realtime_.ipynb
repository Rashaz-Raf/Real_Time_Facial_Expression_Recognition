{
 "nbformat": 4,
 "nbformat_minor": 0,
 "metadata": {
  "colab": {
   "provenance": []
  },
  "kernelspec": {
   "name": "python3",
   "display_name": "Python 3"
  },
  "language_info": {
   "name": "python"
  }
 },
 "cells": [
  {
   "cell_type": "code",
   "source": [
    "!pip install flask pyngrok opencv-python-headless"
   ],
   "metadata": {
    "colab": {
     "base_uri": "https://localhost:8080/"
    },
    "id": "qj0CNYUqYoQq",
    "outputId": "8dcc8ff4-e828-4de8-b1d3-4abd4f337923"
   },
   "execution_count": null,
   "outputs": [
    {
     "output_type": "stream",
     "name": "stdout",
     "text": [
      "Requirement already satisfied: flask in /usr/local/lib/python3.10/dist-packages (3.0.3)\n",
      "Collecting pyngrok\n",
      "  Downloading pyngrok-7.2.1-py3-none-any.whl.metadata (8.3 kB)\n",
      "Requirement already satisfied: opencv-python-headless in /usr/local/lib/python3.10/dist-packages (4.10.0.84)\n",
      "Requirement already satisfied: Werkzeug>=3.0.0 in /usr/local/lib/python3.10/dist-packages (from flask) (3.1.3)\n",
      "Requirement already satisfied: Jinja2>=3.1.2 in /usr/local/lib/python3.10/dist-packages (from flask) (3.1.4)\n",
      "Requirement already satisfied: itsdangerous>=2.1.2 in /usr/local/lib/python3.10/dist-packages (from flask) (2.2.0)\n",
      "Requirement already satisfied: click>=8.1.3 in /usr/local/lib/python3.10/dist-packages (from flask) (8.1.7)\n",
      "Requirement already satisfied: blinker>=1.6.2 in /usr/local/lib/python3.10/dist-packages (from flask) (1.9.0)\n",
      "Requirement already satisfied: PyYAML>=5.1 in /usr/local/lib/python3.10/dist-packages (from pyngrok) (6.0.2)\n",
      "Requirement already satisfied: numpy>=1.21.2 in /usr/local/lib/python3.10/dist-packages (from opencv-python-headless) (1.26.4)\n",
      "Requirement already satisfied: MarkupSafe>=2.0 in /usr/local/lib/python3.10/dist-packages (from Jinja2>=3.1.2->flask) (3.0.2)\n",
      "Downloading pyngrok-7.2.1-py3-none-any.whl (22 kB)\n",
      "Installing collected packages: pyngrok\n",
      "Successfully installed pyngrok-7.2.1\n"
     ]
    }
   ]
  },
  {
   "cell_type": "code",
   "source": [
    "!pip install pyngrok"
   ],
   "metadata": {
    "colab": {
     "base_uri": "https://localhost:8080/"
    },
    "id": "28XDS0fwdYWO",
    "outputId": "64ab3852-995d-4a01-d49c-b3285b404c2b"
   },
   "execution_count": null,
   "outputs": [
    {
     "output_type": "stream",
     "name": "stdout",
     "text": [
      "Requirement already satisfied: pyngrok in /usr/local/lib/python3.10/dist-packages (7.2.1)\n",
      "Requirement already satisfied: PyYAML>=5.1 in /usr/local/lib/python3.10/dist-packages (from pyngrok) (6.0.2)\n"
     ]
    }
   ]
  },
  {
   "cell_type": "code",
   "metadata": {
    "id": "PxfzYJ40PTnC",
    "jupyter": {
     "is_executing": true
    }
   },
   "source": [
    "import tensorflow as tf\n",
    "import numpy as np\n",
    "import cv2\n",
    "\n",
    "import dlib\n",
    "import pickle"
   ],
   "outputs": [],
   "execution_count": null
  },
  {
   "cell_type": "code",
   "source": [
    "def get_model():\n",
    "    backbone = tf.keras.applications.EfficientNetB2(\n",
    "        input_shape=(96, 96, 3),\n",
    "        include_top=False,\n",
    "        weights=None\n",
    "    )\n",
    "    model = tf.keras.Sequential([\n",
    "        backbone,\n",
    "        tf.keras.layers.GlobalAveragePooling2D(),\n",
    "        tf.keras.layers.Dropout(0.3),\n",
    "        tf.keras.layers.Dense(128, activation='relu'),\n",
    "        tf.keras.layers.Dense(7, activation='softmax')\n",
    "    ])\n",
    "    return model"
   ],
   "metadata": {
    "id": "L7hRQzW2PfIW"
   },
   "execution_count": null,
   "outputs": []
  },
  {
   "cell_type": "code",
   "source": [
    "model = get_model()\n",
    "model.load_weights(\"best_weights.weights.h5\")"
   ],
   "metadata": {
    "id": "O2pOgIr4Ph6F"
   },
   "execution_count": null,
   "outputs": []
  },
  {
   "cell_type": "code",
   "source": [
    "def load_object(name):\n",
    "    pickle_obj = open(f\"{name}.pck\",\"rb\")\n",
    "    obj = pickle.load(pickle_obj)\n",
    "    return obj\n",
    "\n",
    "Le = load_object(\"LabelEncoder\")"
   ],
   "metadata": {
    "id": "YYVxOo3SQvdd"
   },
   "execution_count": null,
   "outputs": []
  },
  {
   "cell_type": "code",
   "source": [
    "def ProcessImage(image):\n",
    "    image = tf.convert_to_tensor(image)\n",
    "    image = tf.image.resize(image , [96 , 96] , method=\"bilinear\")\n",
    "    image = tf.expand_dims(image , 0)\n",
    "    return image\n",
    "\n",
    "def RealtimePrediction(image , model, encoder_):\n",
    "    prediction = model.predict(image)\n",
    "    prediction = np.argmax(prediction , axis = 1)\n",
    "    return encoder_.inverse_transform(prediction)[0]\n",
    "\n",
    "def rect_to_bb(rect):\n",
    "    x = rect.left()\n",
    "    y = rect.top()\n",
    "    w = rect.right() - x\n",
    "    h = rect.bottom() - y\n",
    "    return (x, y, w, h)"
   ],
   "metadata": {
    "id": "MXSPP4MxQ6gs"
   },
   "execution_count": null,
   "outputs": []
  },
  {
   "cell_type": "code",
   "source": [
    "VideoCapture = cv2.VideoCapture(0)\n",
    "\n",
    "detector = dlib.get_frontal_face_detector()\n",
    "\n",
    "while True :\n",
    "\n",
    "    ret , frame = VideoCapture.read()\n",
    "\n",
    "    if not ret :\n",
    "        break\n",
    "\n",
    "    gray = cv2.cvtColor( frame , cv2.COLOR_BGR2GRAY)\n",
    "\n",
    "    rects = detector(gray , 0)\n",
    "\n",
    "    if len(rects) >= 1 :\n",
    "        for rect in rects :\n",
    "            (x , y , w , h) = rect_to_bb(rect)\n",
    "            img = gray[y-10 : y+h+10 , x-10 : x+w+10]\n",
    "\n",
    "            if img.shape[0] == 0 or img.shape[1] == 0 :\n",
    "                cv2.imshow(\"Frame\", frame)\n",
    "\n",
    "            else :\n",
    "                img = cv2.cvtColor(img , cv2.COLOR_GRAY2RGB)\n",
    "                img = ProcessImage(img)\n",
    "                out = RealtimePrediction(img , model , Le)\n",
    "                cv2.rectangle(frame, (x, y), (x+w, y+h),(0, 255, 0), 2)\n",
    "                z = y - 15 if y - 15 > 15 else y + 15\n",
    "                cv2.putText(frame, str(out), (x, z), cv2.FONT_HERSHEY_SIMPLEX,0.75, (0, 255, 0), 2)\n",
    "\n",
    "        cv2.imshow(\"Frame\", frame)\n",
    "\n",
    "    else :\n",
    "        cv2.imshow(\"Frame\", frame)\n",
    "\n",
    "    if cv2.waitKey(1) & 0xFF == ord('q'):\n",
    "        break\n",
    "\n",
    "VideoCapture.release()\n",
    "cv2.destroyAllWindows()"
   ],
   "metadata": {
    "id": "Jc7IMgq6Q9CN"
   },
   "execution_count": null,
   "outputs": []
  },
  {
   "cell_type": "code",
   "source": [
    "from pyngrok import ngrok\n",
    "\n",
    "# Replace YOUR_AUTHTOKEN with the token from your ngrok dashboard\n",
    "!ngrok authtoken 2pyIEXao6xxT5dGs2TasMODcFEc_72Mf8kBi6wzzFMFPtm8Vc\n"
   ],
   "metadata": {
    "colab": {
     "base_uri": "https://localhost:8080/"
    },
    "id": "EU_aqVZ3dbmV",
    "outputId": "62ec04fc-1fb8-4633-8693-4f49c9e68cde"
   },
   "execution_count": null,
   "outputs": [
    {
     "output_type": "stream",
     "name": "stdout",
     "text": [
      "Authtoken saved to configuration file: /root/.config/ngrok/ngrok.yml\n"
     ]
    }
   ]
  },
  {
   "cell_type": "code",
   "source": [
    "public_url = ngrok.connect(5000)\n",
    "print(\"Public URL:\", public_url)"
   ],
   "metadata": {
    "colab": {
     "base_uri": "https://localhost:8080/"
    },
    "id": "iMbWzUgpeqbR",
    "outputId": "1fa807b8-3e6b-4931-81ae-ad54c0f67244"
   },
   "execution_count": null,
   "outputs": [
    {
     "output_type": "stream",
     "name": "stdout",
     "text": [
      "Public URL: NgrokTunnel: \"https://c15c-34-46-182-191.ngrok-free.app\" -> \"http://localhost:5000\"\n"
     ]
    }
   ]
  },
  {
   "cell_type": "code",
   "source": [
    "!python app.py"
   ],
   "metadata": {
    "colab": {
     "base_uri": "https://localhost:8080/"
    },
    "id": "bnyMaaxcfJhd",
    "outputId": "93a8c09f-3408-49ff-cec1-db21eb909a5b"
   },
   "execution_count": null,
   "outputs": [
    {
     "output_type": "stream",
     "name": "stdout",
     "text": [
      "python3: can't open file '/content/app.py': [Errno 2] No such file or directory\n"
     ]
    }
   ]
  },
  {
   "cell_type": "code",
   "source": [
    "!curl http://127.0.0.1:5000"
   ],
   "metadata": {
    "colab": {
     "base_uri": "https://localhost:8080/"
    },
    "id": "YC6pJivkfXPU",
    "outputId": "bd796eb7-51ea-493c-df98-57a192beac81"
   },
   "execution_count": null,
   "outputs": [
    {
     "output_type": "stream",
     "name": "stdout",
     "text": [
      "curl: (7) Failed to connect to 127.0.0.1 port 5000 after 0 ms: Connection refused\n"
     ]
    }
   ]
  },
  {
   "cell_type": "code",
   "source": [
    "public_url = ngrok.connect(5000)\n",
    "print(\"Public URL:\", public_url)"
   ],
   "metadata": {
    "id": "Fi34vT2Cfq6c",
    "outputId": "6b0ce62c-0a58-49c4-d6ab-1f63a3e813ed",
    "colab": {
     "base_uri": "https://localhost:8080/"
    }
   },
   "execution_count": null,
   "outputs": [
    {
     "output_type": "stream",
     "name": "stdout",
     "text": [
      "Public URL: NgrokTunnel: \"https://c6e5-34-46-182-191.ngrok-free.app\" -> \"http://localhost:5000\"\n"
     ]
    }
   ]
  },
  {
   "cell_type": "code",
   "source": [
    "from flask import Flask, Response\n",
    "import cv2\n",
    "\n",
    "app = Flask(__name__)\n",
    "camera = cv2.VideoCapture(0)\n",
    "\n",
    "def generate_frames():\n",
    "    while True:\n",
    "        success, frame = camera.read()\n",
    "        if not success:\n",
    "            break\n",
    "        else:\n",
    "            _, buffer = cv2.imencode('.jpg', frame)\n",
    "            frame = buffer.tobytes()\n",
    "            yield (b'--frame\\r\\n'\n",
    "                   b'Content-Type: image/jpeg\\r\\n\\r\\n' + frame + b'\\r\\n')\n",
    "\n",
    "@app.route('/video_feed')\n",
    "def video_feed():\n",
    "    return Response(generate_frames(), mimetype='multipart/x-mixed-replace; boundary=frame')\n",
    "\n",
    "if __name__ == \"__main__\":\n",
    "    app.run()\n"
   ],
   "metadata": {
    "id": "OxD-cGiEYl49"
   },
   "execution_count": null,
   "outputs": []
  }
 ]
}

{
 "cells": [
  {
   "cell_type": "code",
   "metadata": {
    "colab": {
     "base_uri": "https://localhost:8080/"
    },
    "id": "Tp7AvNZ9_ssO",
    "outputId": "06d34908-603f-42b2-ed9f-b5853a587ca7",
    "jupyter": {
     "is_executing": true
    }
   },
   "source": [
    "import kagglehub\n",
    "\n",
    "# Download latest version\n",
    "path = kagglehub.dataset_download(\"sionehoghen/facial-expression\")\n",
    "\n",
    "print(\"Path to dataset files:\", path)"
   ],
   "outputs": [],
   "execution_count": null
  },
  {
   "cell_type": "code",
   "execution_count": 2,
   "metadata": {
    "colab": {
     "base_uri": "https://localhost:8080/"
    },
    "id": "viwWY5N6Gv9Y",
    "outputId": "4da2cfc6-3146-47fa-8f34-0750c18f8d4f"
   },
   "outputs": [
    {
     "output_type": "stream",
     "name": "stdout",
     "text": [
      "Mon Dec  9 05:32:29 2024       \n",
      "+---------------------------------------------------------------------------------------+\n",
      "| NVIDIA-SMI 535.104.05             Driver Version: 535.104.05   CUDA Version: 12.2     |\n",
      "|-----------------------------------------+----------------------+----------------------+\n",
      "| GPU  Name                 Persistence-M | Bus-Id        Disp.A | Volatile Uncorr. ECC |\n",
      "| Fan  Temp   Perf          Pwr:Usage/Cap |         Memory-Usage | GPU-Util  Compute M. |\n",
      "|                                         |                      |               MIG M. |\n",
      "|=========================================+======================+======================|\n",
      "|   0  Tesla T4                       Off | 00000000:00:04.0 Off |                    0 |\n",
      "| N/A   39C    P8               9W /  70W |      0MiB / 15360MiB |      0%      Default |\n",
      "|                                         |                      |                  N/A |\n",
      "+-----------------------------------------+----------------------+----------------------+\n",
      "                                                                                         \n",
      "+---------------------------------------------------------------------------------------+\n",
      "| Processes:                                                                            |\n",
      "|  GPU   GI   CI        PID   Type   Process name                            GPU Memory |\n",
      "|        ID   ID                                                             Usage      |\n",
      "|=======================================================================================|\n",
      "|  No running processes found                                                           |\n",
      "+---------------------------------------------------------------------------------------+\n"
     ]
    }
   ],
   "source": [
    " !nvidia-smi"
   ]
  },
  {
   "cell_type": "code",
   "execution_count": 3,
   "metadata": {
    "colab": {
     "base_uri": "https://localhost:8080/"
    },
    "id": "N8k5CZLMMErD",
    "outputId": "3b52c2b3-e3db-490b-c662-9e0bb147cdc5"
   },
   "outputs": [
    {
     "output_type": "stream",
     "name": "stdout",
     "text": [
      "--2024-12-09 05:32:33--  https://www.dropbox.com/s/si11cws2pyho1bp/archive.zip\n",
      "Resolving www.dropbox.com (www.dropbox.com)... 162.125.2.18, 2620:100:6017:18::a27d:212\n",
      "Connecting to www.dropbox.com (www.dropbox.com)|162.125.2.18|:443... connected.\n",
      "HTTP request sent, awaiting response... 302 Found\n",
      "Location: https://www.dropbox.com/scl/fi/x9eaye2fanuc005ucprmq/archive.zip?rlkey=fawlx24mxtnicc8f65kd5ufap [following]\n",
      "--2024-12-09 05:32:33--  https://www.dropbox.com/scl/fi/x9eaye2fanuc005ucprmq/archive.zip?rlkey=fawlx24mxtnicc8f65kd5ufap\n",
      "Reusing existing connection to www.dropbox.com:443.\n",
      "HTTP request sent, awaiting response... 302 Found\n",
      "Location: https://uc19c600f03204751142972ff538.dl.dropboxusercontent.com/cd/0/inline/Cf6sC_pt7z6fbXkoGvjlvECpHXfi6KtdgEPeZPx1p6Mp6RIKNzJ0repG1eie1h1kOnxl_Ivvsn4S2KDXA_KZq04-QL3EaBx0AQ1Ym5C4b7RfoVvVdWRc8yzlIaiVC2CRZlCISlD3hkfmOso-AyhJa1-_/file# [following]\n",
      "--2024-12-09 05:32:33--  https://uc19c600f03204751142972ff538.dl.dropboxusercontent.com/cd/0/inline/Cf6sC_pt7z6fbXkoGvjlvECpHXfi6KtdgEPeZPx1p6Mp6RIKNzJ0repG1eie1h1kOnxl_Ivvsn4S2KDXA_KZq04-QL3EaBx0AQ1Ym5C4b7RfoVvVdWRc8yzlIaiVC2CRZlCISlD3hkfmOso-AyhJa1-_/file\n",
      "Resolving uc19c600f03204751142972ff538.dl.dropboxusercontent.com (uc19c600f03204751142972ff538.dl.dropboxusercontent.com)... 162.125.65.15, 2620:100:6017:15::a27d:20f\n",
      "Connecting to uc19c600f03204751142972ff538.dl.dropboxusercontent.com (uc19c600f03204751142972ff538.dl.dropboxusercontent.com)|162.125.65.15|:443... connected.\n",
      "HTTP request sent, awaiting response... 302 Found\n",
      "Location: /cd/0/inline2/Cf684X60_NPq-hGc8WUT9Ovl3g0qQqrasNQte_N7tESp9zLA1qD5h5GcZMjqMKvRRw0oPm7ZIFAWr7iaKNE8BcerlwWKtDjDF6HvZ7TIDjg0HTHrzOetDlIC0xUC7lvXee9Itn7aKyNnQeXCKqlG7IG-mAuol7nduf7IrrTn0pJnMTtz64_TQ8ZZuN_eJPuPcLkxUo9k6VZqwqs2Vls6Di65Vt-a_pgZMUkkjgfm8eRc4PcxpFKza8JC1fJqH9p28hMUL4db3_ZdXMfUlG6ADtokuxMjroDd7UWfSO6HFmwYtH5Qqw_pCJTK8Tf2o8jtb3WjVOpr3_vQbcfvrkoHxavZwf-N9Kr7sCItBbsPkoP1WY6xb3IezdjSXG0xELCLPlY/file [following]\n",
      "--2024-12-09 05:32:35--  https://uc19c600f03204751142972ff538.dl.dropboxusercontent.com/cd/0/inline2/Cf684X60_NPq-hGc8WUT9Ovl3g0qQqrasNQte_N7tESp9zLA1qD5h5GcZMjqMKvRRw0oPm7ZIFAWr7iaKNE8BcerlwWKtDjDF6HvZ7TIDjg0HTHrzOetDlIC0xUC7lvXee9Itn7aKyNnQeXCKqlG7IG-mAuol7nduf7IrrTn0pJnMTtz64_TQ8ZZuN_eJPuPcLkxUo9k6VZqwqs2Vls6Di65Vt-a_pgZMUkkjgfm8eRc4PcxpFKza8JC1fJqH9p28hMUL4db3_ZdXMfUlG6ADtokuxMjroDd7UWfSO6HFmwYtH5Qqw_pCJTK8Tf2o8jtb3WjVOpr3_vQbcfvrkoHxavZwf-N9Kr7sCItBbsPkoP1WY6xb3IezdjSXG0xELCLPlY/file\n",
      "Reusing existing connection to uc19c600f03204751142972ff538.dl.dropboxusercontent.com:443.\n",
      "HTTP request sent, awaiting response... 200 OK\n",
      "Length: 63252113 (60M) [application/zip]\n",
      "Saving to: ‘archive.zip.2’\n",
      "\n",
      "archive.zip.2       100%[===================>]  60.32M  17.4MB/s    in 4.1s    \n",
      "\n",
      "2024-12-09 05:32:40 (14.6 MB/s) - ‘archive.zip.2’ saved [63252113/63252113]\n",
      "\n"
     ]
    }
   ],
   "source": [
    "!wget https://www.dropbox.com/s/si11cws2pyho1bp/archive.zip"
   ]
  },
  {
   "cell_type": "code",
   "execution_count": 5,
   "metadata": {
    "id": "kaJ-ULs4sQVj",
    "colab": {
     "base_uri": "https://localhost:8080/"
    },
    "outputId": "b2e80a8e-bfcf-4369-bd2f-12a91285adc4"
   },
   "outputs": [
    {
     "output_type": "stream",
     "name": "stdout",
     "text": [
      "Drive already mounted at /content/drive; to attempt to forcibly remount, call drive.mount(\"/content/drive\", force_remount=True).\n"
     ]
    }
   ],
   "source": [
    "from google.colab import drive\n",
    "drive.mount('/content/drive')"
   ]
  },
  {
   "cell_type": "code",
   "execution_count": 6,
   "metadata": {
    "id": "wYNP5NVf-KS8"
   },
   "outputs": [],
   "source": [
    "import tensorflow as tf\n",
    "import numpy as np\n",
    "import pandas as pd\n",
    "import matplotlib.pyplot as plt\n",
    "from pathlib import Path\n",
    "from sklearn import preprocessing\n",
    "\n",
    "tf.random.set_seed(4)"
   ]
  },
  {
   "cell_type": "code",
   "execution_count": 7,
   "metadata": {
    "id": "dzwKsYfj-xl1"
   },
   "outputs": [],
   "source": [
    "train_path = Path(\"/content/train\")\n",
    "test_path = Path(\"/content/test\")"
   ]
  },
  {
   "cell_type": "code",
   "execution_count": 8,
   "metadata": {
    "id": "2FXS6UXb_FFa",
    "colab": {
     "base_uri": "https://localhost:8080/"
    },
    "outputId": "cc242132-39a7-4241-9dbc-a21b83fe0f21"
   },
   "outputs": [
    {
     "output_type": "execute_result",
     "data": {
      "text/plain": [
       "['/content/train/disgust/Training_50997276.jpg',\n",
       " '/content/train/disgust/Training_73540712.jpg',\n",
       " '/content/train/disgust/Training_60623627.jpg',\n",
       " '/content/train/disgust/Training_80671795.jpg',\n",
       " '/content/train/disgust/Training_14064382.jpg',\n",
       " '/content/train/disgust/Training_77446866.jpg',\n",
       " '/content/train/disgust/Training_41001987.jpg',\n",
       " '/content/train/disgust/Training_8819879.jpg',\n",
       " '/content/train/disgust/Training_96544137.jpg',\n",
       " '/content/train/disgust/Training_37855272.jpg']"
      ]
     },
     "metadata": {},
     "execution_count": 8
    }
   ],
   "source": [
    "train_image_paths = list(train_path.glob(\"*/*\"))\n",
    "train_image_paths = list(map(lambda x : str(x), train_image_paths))\n",
    "\n",
    "train_image_paths[:10]"
   ]
  },
  {
   "cell_type": "code",
   "execution_count": 9,
   "metadata": {
    "id": "GyvbweN-_qO0",
    "colab": {
     "base_uri": "https://localhost:8080/"
    },
    "outputId": "6c7fe9ec-9937-40c9-fd19-0b337d137b73"
   },
   "outputs": [
    {
     "output_type": "execute_result",
     "data": {
      "text/plain": [
       "['disgust',\n",
       " 'disgust',\n",
       " 'disgust',\n",
       " 'disgust',\n",
       " 'disgust',\n",
       " 'disgust',\n",
       " 'disgust',\n",
       " 'disgust',\n",
       " 'disgust',\n",
       " 'disgust']"
      ]
     },
     "metadata": {},
     "execution_count": 9
    }
   ],
   "source": [
    "def get_label(image_path):\n",
    "  return image_path.split(\"/\")[-2]\n",
    "train_image_labels = list(map(get_label, train_image_paths))\n",
    "train_image_labels[:10]"
   ]
  },
  {
   "cell_type": "code",
   "execution_count": 10,
   "metadata": {
    "id": "_7SjBqw6AHnm",
    "colab": {
     "base_uri": "https://localhost:8080/"
    },
    "outputId": "abfdab03-f45e-4f04-bd7c-86cb8260685a"
   },
   "outputs": [
    {
     "output_type": "execute_result",
     "data": {
      "text/plain": [
       "array([1, 1, 1, 1, 1, 1, 1, 1, 1, 1])"
      ]
     },
     "metadata": {},
     "execution_count": 10
    }
   ],
   "source": [
    "from sklearn.preprocessing import LabelEncoder\n",
    "\n",
    "Le = LabelEncoder()\n",
    "train_image_labels = Le.fit_transform(train_image_labels)\n",
    "\n",
    "train_image_labels[:10]"
   ]
  },
  {
   "cell_type": "code",
   "execution_count": 11,
   "metadata": {
    "id": "3k4hvmCtHmx3",
    "colab": {
     "base_uri": "https://localhost:8080/"
    },
    "outputId": "54f42639-0af4-4527-d8da-2d99dbdfa072"
   },
   "outputs": [
    {
     "output_type": "execute_result",
     "data": {
      "text/plain": [
       "array([[0., 1., 0., 0., 0., 0., 0.],\n",
       "       [0., 1., 0., 0., 0., 0., 0.],\n",
       "       [0., 1., 0., 0., 0., 0., 0.],\n",
       "       [0., 1., 0., 0., 0., 0., 0.],\n",
       "       [0., 1., 0., 0., 0., 0., 0.],\n",
       "       [0., 1., 0., 0., 0., 0., 0.],\n",
       "       [0., 1., 0., 0., 0., 0., 0.],\n",
       "       [0., 1., 0., 0., 0., 0., 0.],\n",
       "       [0., 1., 0., 0., 0., 0., 0.],\n",
       "       [0., 1., 0., 0., 0., 0., 0.]])"
      ]
     },
     "metadata": {},
     "execution_count": 11
    }
   ],
   "source": [
    "train_image_labels = tf.keras.utils.to_categorical(train_image_labels)\n",
    "train_image_labels[:10]"
   ]
  },
  {
   "cell_type": "code",
   "execution_count": 14,
   "metadata": {
    "id": "dzCJywe2H26O"
   },
   "outputs": [],
   "source": [
    " from sklearn.model_selection import train_test_split\n",
    "\n",
    "Train_paths, Val_paths, Train_labels, Val_labels = train_test_split(train_image_paths, train_image_labels, test_size=0.2)"
   ]
  },
  {
   "cell_type": "code",
   "source": [
    "classTotals = Train_labels.sum(axis=0)\n",
    "classWeight = classTotals.max() / classTotals\n",
    "\n",
    "class_weight = {e : weight for e, weight in enumerate(classWeight)}\n",
    "print(class_weight)"
   ],
   "metadata": {
    "colab": {
     "base_uri": "https://localhost:8080/"
    },
    "id": "opS1JmT6AeD-",
    "outputId": "138a77d9-94fb-44a3-ff93-fcc55ba795eb"
   },
   "execution_count": 15,
   "outputs": [
    {
     "output_type": "stream",
     "name": "stdout",
     "text": [
      "{0: 1.808624488511174, 1: 16.752186588921283, 2: 1.7642001842186061, 3: 1.0, 4: 1.4329177057356608, 5: 1.479021879021879, 6: 2.2542173401333856}\n"
     ]
    }
   ]
  },
  {
   "cell_type": "code",
   "source": [
    "def load(image, label):\n",
    "  image = tf.io.read_file(path)\n",
    "  image = tf.image.decode_jpeg(image, channels=3)\n",
    "  return image, label"
   ],
   "metadata": {
    "id": "AnzD6jcoBMgj"
   },
   "execution_count": 16,
   "outputs": []
  },
  {
   "cell_type": "code",
   "source": [
    "IMG_SIZE = 96\n",
    "BATCH_SIZE = 32\n",
    "\n",
    "resize = tf.keras.Sequential([\n",
    "    tf.keras.layers.Resizing(IMG_SIZE, IMG_SIZE)\n",
    "])\n",
    "\n",
    "data_augmentation = tf.keras.Sequential([\n",
    "    tf.keras.layers.RandomFlip(\"horizontal\"),\n",
    "    tf.keras.layers.RandomRotation(0.1),\n",
    "    tf.keras.layers.RandomZoom(height_factor=(-0.1, -0.05))\n",
    "])"
   ],
   "metadata": {
    "id": "Ko4XgJGJB7R7"
   },
   "execution_count": 24,
   "outputs": []
  },
  {
   "cell_type": "code",
   "source": [
    "AUTOTUNE = tf.data.experimental.AUTOTUNE\n",
    "def load(image, label):\n",
    "  image = tf.io.read_file(image)\n",
    "  image = tf.image.decode_jpeg(image, channels=3)\n",
    "  return image, label\n",
    "\n",
    "def get_dataset(paths , labels , train = True):\n",
    "    image_paths = tf.convert_to_tensor(paths)\n",
    "    labels = tf.convert_to_tensor(labels)\n",
    "\n",
    "    image_dataset = tf.data.Dataset.from_tensor_slices(image_paths)\n",
    "    label_dataset = tf.data.Dataset.from_tensor_slices(labels)\n",
    "\n",
    "    dataset = tf.data.Dataset.zip((image_dataset , label_dataset))\n",
    "\n",
    "    dataset = dataset.map(lambda image , label : load(image , label))\n",
    "    dataset = dataset.map(lambda image, label: (resize(image), label) , num_parallel_calls=AUTOTUNE)\n",
    "    dataset = dataset.shuffle(1000)\n",
    "    dataset = dataset.batch(BATCH_SIZE)\n",
    "\n",
    "    if train:\n",
    "        dataset = dataset.map(lambda image, label: (data_augmentation(image), label) , num_parallel_calls=AUTOTUNE)\n",
    "\n",
    "    dataset = dataset.repeat()\n",
    "    return dataset"
   ],
   "metadata": {
    "id": "iwnoB0NiDGGQ"
   },
   "execution_count": 32,
   "outputs": []
  },
  {
   "cell_type": "code",
   "source": [
    "%time train_dataset = get_dataset(Train_paths , Train_labels)\n",
    "\n",
    "def load(image, label):\n",
    "  image = tf.io.read_file(image)\n",
    "  image = tf.image.decode_jpeg(image, channels=3)\n",
    "  return image, label"
   ],
   "metadata": {
    "colab": {
     "base_uri": "https://localhost:8080/"
    },
    "id": "UYxcM72ZDOx6",
    "outputId": "e79932bc-7b2c-437f-cfe6-b46c801960a4"
   },
   "execution_count": 33,
   "outputs": [
    {
     "output_type": "stream",
     "name": "stdout",
     "text": [
      "CPU times: user 228 ms, sys: 6.12 ms, total: 234 ms\n",
      "Wall time: 237 ms\n"
     ]
    }
   ]
  },
  {
   "cell_type": "code",
   "source": [
    "image, label = next(iter(train_dataset))\n",
    "\n",
    "print(Le.inverse_transform(np.argmax(label , axis = 1))[0])\n",
    "plt.imshow((image[0].numpy()/255).reshape(96 , 96 , 3))"
   ],
   "metadata": {
    "colab": {
     "base_uri": "https://localhost:8080/",
     "height": 468
    },
    "id": "1bVVtGVbB-zE",
    "outputId": "5395427d-9b1f-49d5-8fcc-0b1424eb79be"
   },
   "execution_count": 54,
   "outputs": [
    {
     "output_type": "stream",
     "name": "stdout",
     "text": [
      "happy\n"
     ]
    },
    {
     "output_type": "execute_result",
     "data": {
      "text/plain": [
       "<matplotlib.image.AxesImage at 0x7ba3a01dba90>"
      ]
     },
     "metadata": {},
     "execution_count": 54
    },
    {
     "output_type": "display_data",
     "data": {
      "text/plain": [
       "<Figure size 640x480 with 1 Axes>"
      ],
      "image/png": "[encoded data removed]"
     },
     "metadata": {}
    }
   ]
  },
  {
   "cell_type": "code",
   "source": [
    "%time val_dataset = get_dataset(Val_paths , Val_labels , train = False)\n",
    "\n",
    "image , label = next(iter(val_dataset))\n",
    "print(image.shape)\n",
    "print(label.shape)"
   ],
   "metadata": {
    "colab": {
     "base_uri": "https://localhost:8080/"
    },
    "id": "YfzModFtEw1j",
    "outputId": "448573bf-7f56-47e7-ed21-9b0840b73153"
   },
   "execution_count": 55,
   "outputs": [
    {
     "output_type": "stream",
     "name": "stdout",
     "text": [
      "CPU times: user 58.3 ms, sys: 1.89 ms, total: 60.2 ms\n",
      "Wall time: 60 ms\n",
      "(32, 96, 96, 3)\n",
      "(32, 7)\n"
     ]
    }
   ]
  },
  {
   "cell_type": "code",
   "source": [
    "print(Le.inverse_transform(np.argmax(label , axis = 1))[0])\n",
    "plt.imshow((image[0].numpy()/255).reshape(96 , 96 , 3))"
   ],
   "metadata": {
    "colab": {
     "base_uri": "https://localhost:8080/",
     "height": 468
    },
    "id": "u0wpNUI6E2p8",
    "outputId": "91436961-6a9e-4663-963f-8cb3e0f53e3a"
   },
   "execution_count": 56,
   "outputs": [
    {
     "output_type": "stream",
     "name": "stdout",
     "text": [
      "happy\n"
     ]
    },
    {
     "output_type": "execute_result",
     "data": {
      "text/plain": [
       "<matplotlib.image.AxesImage at 0x7ba389567fa0>"
      ]
     },
     "metadata": {},
     "execution_count": 56
    },
    {
     "output_type": "display_data",
     "data": {
      "text/plain": [
       "<Figure size 640x480 with 1 Axes>"
      ],
      "image/png": "[encoded data removed]"
     },
     "metadata": {}
    }
   ]
  },
  {
   "cell_type": "code",
   "source": [
    "from tensorflow.keras.applications import EfficientNetB2\n",
    "\n",
    "backbone = EfficientNetB2(\n",
    "    input_shape=(96, 96, 3),\n",
    "    include_top=False\n",
    ")\n",
    "\n",
    "model = tf.keras.Sequential([\n",
    "    backbone,\n",
    "    tf.keras.layers.GlobalAveragePooling2D(),\n",
    "    tf.keras.layers.Dropout(0.3),\n",
    "    tf.keras.layers.Dense(128, activation='relu'),\n",
    "    tf.keras.layers.Dense(7, activation='softmax')\n",
    "])\n",
    "\n",
    "model.summary()"
   ],
   "metadata": {
    "colab": {
     "base_uri": "https://localhost:8080/",
     "height": 377
    },
    "id": "Fl45i0FAE646",
    "outputId": "d4f44148-5038-4ed6-bf7a-2b0f4b7d118c"
   },
   "execution_count": 57,
   "outputs": [
    {
     "output_type": "stream",
     "name": "stdout",
     "text": [
      "Downloading data from https://storage.googleapis.com/keras-applications/efficientnetb2_notop.h5\n",
      "\u001B[1m31790344/31790344\u001B[0m \u001B[32m━━━━━━━━━━━━━━━━━━━━\u001B[0m\u001B[37m\u001B[0m \u001B[1m0s\u001B[0m 0us/step\n"
     ]
    },
    {
     "output_type": "display_data",
     "data": {
      "text/plain": [
       "\u001B[1mModel: \"sequential_2\"\u001B[0m\n"
      ],
      "text/html": [
       "<pre style=\"white-space:pre;overflow-x:auto;line-height:normal;font-family:Menlo,'DejaVu Sans Mono',consolas,'Courier New',monospace\"><span style=\"font-weight: bold\">Model: \"sequential_2\"</span>\n",
       "</pre>\n"
      ]
     },
     "metadata": {}
    },
    {
     "output_type": "display_data",
     "data": {
      "text/plain": [
       "┏━━━━━━━━━━━━━━━━━━━━━━━━━━━━━━━━━━━━━━┳━━━━━━━━━━━━━━━━━━━━━━━━━━━━━┳━━━━━━━━━━━━━━━━━┓\n",
       "┃\u001B[1m \u001B[0m\u001B[1mLayer (type)                        \u001B[0m\u001B[1m \u001B[0m┃\u001B[1m \u001B[0m\u001B[1mOutput Shape               \u001B[0m\u001B[1m \u001B[0m┃\u001B[1m \u001B[0m\u001B[1m        Param #\u001B[0m\u001B[1m \u001B[0m┃\n",
       "┡━━━━━━━━━━━━━━━━━━━━━━━━━━━━━━━━━━━━━━╇━━━━━━━━━━━━━━━━━━━━━━━━━━━━━╇━━━━━━━━━━━━━━━━━┩\n",
       "│ efficientnetb2 (\u001B[38;5;33mFunctional\u001B[0m)          │ (\u001B[38;5;45mNone\u001B[0m, \u001B[38;5;34m3\u001B[0m, \u001B[38;5;34m3\u001B[0m, \u001B[38;5;34m1408\u001B[0m)          │       \u001B[38;5;34m7,768,569\u001B[0m │\n",
       "├──────────────────────────────────────┼─────────────────────────────┼─────────────────┤\n",
       "│ global_average_pooling2d             │ (\u001B[38;5;45mNone\u001B[0m, \u001B[38;5;34m1408\u001B[0m)                │               \u001B[38;5;34m0\u001B[0m │\n",
       "│ (\u001B[38;5;33mGlobalAveragePooling2D\u001B[0m)             │                             │                 │\n",
       "├──────────────────────────────────────┼─────────────────────────────┼─────────────────┤\n",
       "│ dropout (\u001B[38;5;33mDropout\u001B[0m)                    │ (\u001B[38;5;45mNone\u001B[0m, \u001B[38;5;34m1408\u001B[0m)                │               \u001B[38;5;34m0\u001B[0m │\n",
       "├──────────────────────────────────────┼─────────────────────────────┼─────────────────┤\n",
       "│ dense (\u001B[38;5;33mDense\u001B[0m)                        │ (\u001B[38;5;45mNone\u001B[0m, \u001B[38;5;34m128\u001B[0m)                 │         \u001B[38;5;34m180,352\u001B[0m │\n",
       "├──────────────────────────────────────┼─────────────────────────────┼─────────────────┤\n",
       "│ dense_1 (\u001B[38;5;33mDense\u001B[0m)                      │ (\u001B[38;5;45mNone\u001B[0m, \u001B[38;5;34m7\u001B[0m)                   │             \u001B[38;5;34m903\u001B[0m │\n",
       "└──────────────────────────────────────┴─────────────────────────────┴─────────────────┘\n"
      ],
      "text/html": [
       "<pre style=\"white-space:pre;overflow-x:auto;line-height:normal;font-family:Menlo,'DejaVu Sans Mono',consolas,'Courier New',monospace\">┏━━━━━━━━━━━━━━━━━━━━━━━━━━━━━━━━━━━━━━┳━━━━━━━━━━━━━━━━━━━━━━━━━━━━━┳━━━━━━━━━━━━━━━━━┓\n",
       "┃<span style=\"font-weight: bold\"> Layer (type)                         </span>┃<span style=\"font-weight: bold\"> Output Shape                </span>┃<span style=\"font-weight: bold\">         Param # </span>┃\n",
       "┡━━━━━━━━━━━━━━━━━━━━━━━━━━━━━━━━━━━━━━╇━━━━━━━━━━━━━━━━━━━━━━━━━━━━━╇━━━━━━━━━━━━━━━━━┩\n",
       "│ efficientnetb2 (<span style=\"color: #0087ff; text-decoration-color: #0087ff\">Functional</span>)          │ (<span style=\"color: #00d7ff; text-decoration-color: #00d7ff\">None</span>, <span style=\"color: #00af00; text-decoration-color: #00af00\">3</span>, <span style=\"color: #00af00; text-decoration-color: #00af00\">3</span>, <span style=\"color: #00af00; text-decoration-color: #00af00\">1408</span>)          │       <span style=\"color: #00af00; text-decoration-color: #00af00\">7,768,569</span> │\n",
       "├──────────────────────────────────────┼─────────────────────────────┼─────────────────┤\n",
       "│ global_average_pooling2d             │ (<span style=\"color: #00d7ff; text-decoration-color: #00d7ff\">None</span>, <span style=\"color: #00af00; text-decoration-color: #00af00\">1408</span>)                │               <span style=\"color: #00af00; text-decoration-color: #00af00\">0</span> │\n",
       "│ (<span style=\"color: #0087ff; text-decoration-color: #0087ff\">GlobalAveragePooling2D</span>)             │                             │                 │\n",
       "├──────────────────────────────────────┼─────────────────────────────┼─────────────────┤\n",
       "│ dropout (<span style=\"color: #0087ff; text-decoration-color: #0087ff\">Dropout</span>)                    │ (<span style=\"color: #00d7ff; text-decoration-color: #00d7ff\">None</span>, <span style=\"color: #00af00; text-decoration-color: #00af00\">1408</span>)                │               <span style=\"color: #00af00; text-decoration-color: #00af00\">0</span> │\n",
       "├──────────────────────────────────────┼─────────────────────────────┼─────────────────┤\n",
       "│ dense (<span style=\"color: #0087ff; text-decoration-color: #0087ff\">Dense</span>)                        │ (<span style=\"color: #00d7ff; text-decoration-color: #00d7ff\">None</span>, <span style=\"color: #00af00; text-decoration-color: #00af00\">128</span>)                 │         <span style=\"color: #00af00; text-decoration-color: #00af00\">180,352</span> │\n",
       "├──────────────────────────────────────┼─────────────────────────────┼─────────────────┤\n",
       "│ dense_1 (<span style=\"color: #0087ff; text-decoration-color: #0087ff\">Dense</span>)                      │ (<span style=\"color: #00d7ff; text-decoration-color: #00d7ff\">None</span>, <span style=\"color: #00af00; text-decoration-color: #00af00\">7</span>)                   │             <span style=\"color: #00af00; text-decoration-color: #00af00\">903</span> │\n",
       "└──────────────────────────────────────┴─────────────────────────────┴─────────────────┘\n",
       "</pre>\n"
      ]
     },
     "metadata": {}
    },
    {
     "output_type": "display_data",
     "data": {
      "text/plain": [
       "\u001B[1m Total params: \u001B[0m\u001B[38;5;34m7,949,824\u001B[0m (30.33 MB)\n"
      ],
      "text/html": [
       "<pre style=\"white-space:pre;overflow-x:auto;line-height:normal;font-family:Menlo,'DejaVu Sans Mono',consolas,'Courier New',monospace\"><span style=\"font-weight: bold\"> Total params: </span><span style=\"color: #00af00; text-decoration-color: #00af00\">7,949,824</span> (30.33 MB)\n",
       "</pre>\n"
      ]
     },
     "metadata": {}
    },
    {
     "output_type": "display_data",
     "data": {
      "text/plain": [
       "\u001B[1m Trainable params: \u001B[0m\u001B[38;5;34m7,882,249\u001B[0m (30.07 MB)\n"
      ],
      "text/html": [
       "<pre style=\"white-space:pre;overflow-x:auto;line-height:normal;font-family:Menlo,'DejaVu Sans Mono',consolas,'Courier New',monospace\"><span style=\"font-weight: bold\"> Trainable params: </span><span style=\"color: #00af00; text-decoration-color: #00af00\">7,882,249</span> (30.07 MB)\n",
       "</pre>\n"
      ]
     },
     "metadata": {}
    },
    {
     "output_type": "display_data",
     "data": {
      "text/plain": [
       "\u001B[1m Non-trainable params: \u001B[0m\u001B[38;5;34m67,575\u001B[0m (263.97 KB)\n"
      ],
      "text/html": [
       "<pre style=\"white-space:pre;overflow-x:auto;line-height:normal;font-family:Menlo,'DejaVu Sans Mono',consolas,'Courier New',monospace\"><span style=\"font-weight: bold\"> Non-trainable params: </span><span style=\"color: #00af00; text-decoration-color: #00af00\">67,575</span> (263.97 KB)\n",
       "</pre>\n"
      ]
     },
     "metadata": {}
    }
   ]
  },
  {
   "cell_type": "code",
   "source": [
    "model.compile(\n",
    "    optimizer=tf.keras.optimizers.Adam(learning_rate=0.001, beta_1=0.9, beta_2=0.999, epsilon=1e-07),\n",
    "    loss = 'categorical_crossentropy',\n",
    "    metrics=['accuracy' , tf.keras.metrics.Precision(name='precision'),tf.keras.metrics.Recall(name='recall')]\n",
    ")"
   ],
   "metadata": {
    "id": "9_H2BYkBFBR5"
   },
   "execution_count": 58,
   "outputs": []
  },
  {
   "cell_type": "code",
   "source": [
    "history = model.fit(\n",
    "    train_dataset,\n",
    "    steps_per_epoch=len(Train_paths)//BATCH_SIZE,\n",
    "    epochs=12,\n",
    "    validation_data=val_dataset,\n",
    "    validation_steps = len(Val_paths)//BATCH_SIZE,\n",
    "    class_weight=class_weight\n",
    ")"
   ],
   "metadata": {
    "colab": {
     "base_uri": "https://localhost:8080/"
    },
    "id": "GtLN3JS0FCei",
    "outputId": "850a1ea0-a0dd-4f3b-a6bf-979ddfe5e161"
   },
   "execution_count": 59,
   "outputs": [
    {
     "output_type": "stream",
     "name": "stdout",
     "text": [
      "Epoch 1/12\n",
      "\u001B[1m717/717\u001B[0m \u001B[32m━━━━━━━━━━━━━━━━━━━━\u001B[0m\u001B[37m\u001B[0m \u001B[1m182s\u001B[0m 98ms/step - accuracy: 0.3320 - loss: 3.0684 - precision: 0.5709 - recall: 0.1251 - val_accuracy: 0.3752 - val_loss: 1.6700 - val_precision: 0.6039 - val_recall: 0.1720\n",
      "Epoch 2/12\n",
      "\u001B[1m717/717\u001B[0m \u001B[32m━━━━━━━━━━━━━━━━━━━━\u001B[0m\u001B[37m\u001B[0m \u001B[1m137s\u001B[0m 97ms/step - accuracy: 0.4828 - loss: 2.4432 - precision: 0.6812 - recall: 0.2727 - val_accuracy: 0.4902 - val_loss: 1.3795 - val_precision: 0.6289 - val_recall: 0.2879\n",
      "Epoch 3/12\n",
      "\u001B[1m717/717\u001B[0m \u001B[32m━━━━━━━━━━━━━━━━━━━━\u001B[0m\u001B[37m\u001B[0m \u001B[1m62s\u001B[0m 87ms/step - accuracy: 0.5185 - loss: 2.2193 - precision: 0.6896 - recall: 0.3151 - val_accuracy: 0.5310 - val_loss: 1.2504 - val_precision: 0.6957 - val_recall: 0.3869\n",
      "Epoch 4/12\n",
      "\u001B[1m717/717\u001B[0m \u001B[32m━━━━━━━━━━━━━━━━━━━━\u001B[0m\u001B[37m\u001B[0m \u001B[1m62s\u001B[0m 86ms/step - accuracy: 0.5461 - loss: 2.1281 - precision: 0.7221 - recall: 0.3639 - val_accuracy: 0.5606 - val_loss: 1.1765 - val_precision: 0.7255 - val_recall: 0.3823\n",
      "Epoch 5/12\n",
      "\u001B[1m717/717\u001B[0m \u001B[32m━━━━━━━━━━━━━━━━━━━━\u001B[0m\u001B[37m\u001B[0m \u001B[1m61s\u001B[0m 86ms/step - accuracy: 0.5603 - loss: 2.0416 - precision: 0.7274 - recall: 0.3775 - val_accuracy: 0.5636 - val_loss: 1.1511 - val_precision: 0.7240 - val_recall: 0.4112\n",
      "Epoch 6/12\n",
      "\u001B[1m717/717\u001B[0m \u001B[32m━━━━━━━━━━━━━━━━━━━━\u001B[0m\u001B[37m\u001B[0m \u001B[1m62s\u001B[0m 86ms/step - accuracy: 0.5646 - loss: 2.0054 - precision: 0.7195 - recall: 0.3901 - val_accuracy: 0.5387 - val_loss: 1.3121 - val_precision: 0.6199 - val_recall: 0.4133\n",
      "Epoch 7/12\n",
      "\u001B[1m717/717\u001B[0m \u001B[32m━━━━━━━━━━━━━━━━━━━━\u001B[0m\u001B[37m\u001B[0m \u001B[1m63s\u001B[0m 87ms/step - accuracy: 0.5772 - loss: 1.9497 - precision: 0.7250 - recall: 0.3990 - val_accuracy: 0.5291 - val_loss: 1.3494 - val_precision: 0.6226 - val_recall: 0.3872\n",
      "Epoch 8/12\n",
      "\u001B[1m717/717\u001B[0m \u001B[32m━━━━━━━━━━━━━━━━━━━━\u001B[0m\u001B[37m\u001B[0m \u001B[1m62s\u001B[0m 87ms/step - accuracy: 0.5849 - loss: 1.8746 - precision: 0.7327 - recall: 0.4187 - val_accuracy: 0.5849 - val_loss: 1.1190 - val_precision: 0.6943 - val_recall: 0.4662\n",
      "Epoch 9/12\n",
      "\u001B[1m717/717\u001B[0m \u001B[32m━━━━━━━━━━━━━━━━━━━━\u001B[0m\u001B[37m\u001B[0m \u001B[1m62s\u001B[0m 86ms/step - accuracy: 0.5963 - loss: 1.8541 - precision: 0.7331 - recall: 0.4371 - val_accuracy: 0.5849 - val_loss: 1.1079 - val_precision: 0.6935 - val_recall: 0.4704\n",
      "Epoch 10/12\n",
      "\u001B[1m717/717\u001B[0m \u001B[32m━━━━━━━━━━━━━━━━━━━━\u001B[0m\u001B[37m\u001B[0m \u001B[1m61s\u001B[0m 85ms/step - accuracy: 0.6007 - loss: 1.8020 - precision: 0.7388 - recall: 0.4567 - val_accuracy: 0.5905 - val_loss: 1.1046 - val_precision: 0.6763 - val_recall: 0.4904\n",
      "Epoch 11/12\n",
      "\u001B[1m717/717\u001B[0m \u001B[32m━━━━━━━━━━━━━━━━━━━━\u001B[0m\u001B[37m\u001B[0m \u001B[1m62s\u001B[0m 86ms/step - accuracy: 0.6125 - loss: 1.7474 - precision: 0.7447 - recall: 0.4736 - val_accuracy: 0.5475 - val_loss: 1.2762 - val_precision: 0.6437 - val_recall: 0.4228\n",
      "Epoch 12/12\n",
      "\u001B[1m717/717\u001B[0m \u001B[32m━━━━━━━━━━━━━━━━━━━━\u001B[0m\u001B[37m\u001B[0m \u001B[1m61s\u001B[0m 86ms/step - accuracy: 0.6128 - loss: 1.7187 - precision: 0.7453 - recall: 0.4710 - val_accuracy: 0.6037 - val_loss: 1.0847 - val_precision: 0.6883 - val_recall: 0.5170\n"
     ]
    }
   ]
  },
  {
   "cell_type": "code",
   "source": [
    "model.layers[0].trainable = False"
   ],
   "metadata": {
    "id": "1oP6TIUVFHfZ"
   },
   "execution_count": 60,
   "outputs": []
  },
  {
   "cell_type": "code",
   "source": [
    "checkpoint = tf.keras.callbacks.ModelCheckpoint(\"best_weights.weights.h5\",verbose=1,save_best_only=True,save_weights_only = True)\n",
    "early_stop = tf.keras.callbacks.EarlyStopping(patience=4)"
   ],
   "metadata": {
    "id": "du5d87ZXFMHg"
   },
   "execution_count": 65,
   "outputs": []
  },
  {
   "cell_type": "code",
   "source": [
    "model.summary()"
   ],
   "metadata": {
    "colab": {
     "base_uri": "https://localhost:8080/",
     "height": 338
    },
    "id": "dWHtuIRNFN2J",
    "outputId": "8cf78531-ce8c-49e3-9439-ca17003fa201"
   },
   "execution_count": 66,
   "outputs": [
    {
     "output_type": "display_data",
     "data": {
      "text/plain": [
       "\u001B[1mModel: \"sequential_2\"\u001B[0m\n"
      ],
      "text/html": [
       "<pre style=\"white-space:pre;overflow-x:auto;line-height:normal;font-family:Menlo,'DejaVu Sans Mono',consolas,'Courier New',monospace\"><span style=\"font-weight: bold\">Model: \"sequential_2\"</span>\n",
       "</pre>\n"
      ]
     },
     "metadata": {}
    },
    {
     "output_type": "display_data",
     "data": {
      "text/plain": [
       "┏━━━━━━━━━━━━━━━━━━━━━━━━━━━━━━━━━━━━━━┳━━━━━━━━━━━━━━━━━━━━━━━━━━━━━┳━━━━━━━━━━━━━━━━━┓\n",
       "┃\u001B[1m \u001B[0m\u001B[1mLayer (type)                        \u001B[0m\u001B[1m \u001B[0m┃\u001B[1m \u001B[0m\u001B[1mOutput Shape               \u001B[0m\u001B[1m \u001B[0m┃\u001B[1m \u001B[0m\u001B[1m        Param #\u001B[0m\u001B[1m \u001B[0m┃\n",
       "┡━━━━━━━━━━━━━━━━━━━━━━━━━━━━━━━━━━━━━━╇━━━━━━━━━━━━━━━━━━━━━━━━━━━━━╇━━━━━━━━━━━━━━━━━┩\n",
       "│ efficientnetb2 (\u001B[38;5;33mFunctional\u001B[0m)          │ (\u001B[38;5;45mNone\u001B[0m, \u001B[38;5;34m3\u001B[0m, \u001B[38;5;34m3\u001B[0m, \u001B[38;5;34m1408\u001B[0m)          │       \u001B[38;5;34m7,768,569\u001B[0m │\n",
       "├──────────────────────────────────────┼─────────────────────────────┼─────────────────┤\n",
       "│ global_average_pooling2d             │ (\u001B[38;5;45mNone\u001B[0m, \u001B[38;5;34m1408\u001B[0m)                │               \u001B[38;5;34m0\u001B[0m │\n",
       "│ (\u001B[38;5;33mGlobalAveragePooling2D\u001B[0m)             │                             │                 │\n",
       "├──────────────────────────────────────┼─────────────────────────────┼─────────────────┤\n",
       "│ dropout (\u001B[38;5;33mDropout\u001B[0m)                    │ (\u001B[38;5;45mNone\u001B[0m, \u001B[38;5;34m1408\u001B[0m)                │               \u001B[38;5;34m0\u001B[0m │\n",
       "├──────────────────────────────────────┼─────────────────────────────┼─────────────────┤\n",
       "│ dense (\u001B[38;5;33mDense\u001B[0m)                        │ (\u001B[38;5;45mNone\u001B[0m, \u001B[38;5;34m128\u001B[0m)                 │         \u001B[38;5;34m180,352\u001B[0m │\n",
       "├──────────────────────────────────────┼─────────────────────────────┼─────────────────┤\n",
       "│ dense_1 (\u001B[38;5;33mDense\u001B[0m)                      │ (\u001B[38;5;45mNone\u001B[0m, \u001B[38;5;34m7\u001B[0m)                   │             \u001B[38;5;34m903\u001B[0m │\n",
       "└──────────────────────────────────────┴─────────────────────────────┴─────────────────┘\n"
      ],
      "text/html": [
       "<pre style=\"white-space:pre;overflow-x:auto;line-height:normal;font-family:Menlo,'DejaVu Sans Mono',consolas,'Courier New',monospace\">┏━━━━━━━━━━━━━━━━━━━━━━━━━━━━━━━━━━━━━━┳━━━━━━━━━━━━━━━━━━━━━━━━━━━━━┳━━━━━━━━━━━━━━━━━┓\n",
       "┃<span style=\"font-weight: bold\"> Layer (type)                         </span>┃<span style=\"font-weight: bold\"> Output Shape                </span>┃<span style=\"font-weight: bold\">         Param # </span>┃\n",
       "┡━━━━━━━━━━━━━━━━━━━━━━━━━━━━━━━━━━━━━━╇━━━━━━━━━━━━━━━━━━━━━━━━━━━━━╇━━━━━━━━━━━━━━━━━┩\n",
       "│ efficientnetb2 (<span style=\"color: #0087ff; text-decoration-color: #0087ff\">Functional</span>)          │ (<span style=\"color: #00d7ff; text-decoration-color: #00d7ff\">None</span>, <span style=\"color: #00af00; text-decoration-color: #00af00\">3</span>, <span style=\"color: #00af00; text-decoration-color: #00af00\">3</span>, <span style=\"color: #00af00; text-decoration-color: #00af00\">1408</span>)          │       <span style=\"color: #00af00; text-decoration-color: #00af00\">7,768,569</span> │\n",
       "├──────────────────────────────────────┼─────────────────────────────┼─────────────────┤\n",
       "│ global_average_pooling2d             │ (<span style=\"color: #00d7ff; text-decoration-color: #00d7ff\">None</span>, <span style=\"color: #00af00; text-decoration-color: #00af00\">1408</span>)                │               <span style=\"color: #00af00; text-decoration-color: #00af00\">0</span> │\n",
       "│ (<span style=\"color: #0087ff; text-decoration-color: #0087ff\">GlobalAveragePooling2D</span>)             │                             │                 │\n",
       "├──────────────────────────────────────┼─────────────────────────────┼─────────────────┤\n",
       "│ dropout (<span style=\"color: #0087ff; text-decoration-color: #0087ff\">Dropout</span>)                    │ (<span style=\"color: #00d7ff; text-decoration-color: #00d7ff\">None</span>, <span style=\"color: #00af00; text-decoration-color: #00af00\">1408</span>)                │               <span style=\"color: #00af00; text-decoration-color: #00af00\">0</span> │\n",
       "├──────────────────────────────────────┼─────────────────────────────┼─────────────────┤\n",
       "│ dense (<span style=\"color: #0087ff; text-decoration-color: #0087ff\">Dense</span>)                        │ (<span style=\"color: #00d7ff; text-decoration-color: #00d7ff\">None</span>, <span style=\"color: #00af00; text-decoration-color: #00af00\">128</span>)                 │         <span style=\"color: #00af00; text-decoration-color: #00af00\">180,352</span> │\n",
       "├──────────────────────────────────────┼─────────────────────────────┼─────────────────┤\n",
       "│ dense_1 (<span style=\"color: #0087ff; text-decoration-color: #0087ff\">Dense</span>)                      │ (<span style=\"color: #00d7ff; text-decoration-color: #00d7ff\">None</span>, <span style=\"color: #00af00; text-decoration-color: #00af00\">7</span>)                   │             <span style=\"color: #00af00; text-decoration-color: #00af00\">903</span> │\n",
       "└──────────────────────────────────────┴─────────────────────────────┴─────────────────┘\n",
       "</pre>\n"
      ]
     },
     "metadata": {}
    },
    {
     "output_type": "display_data",
     "data": {
      "text/plain": [
       "\u001B[1m Total params: \u001B[0m\u001B[38;5;34m23,714,324\u001B[0m (90.46 MB)\n"
      ],
      "text/html": [
       "<pre style=\"white-space:pre;overflow-x:auto;line-height:normal;font-family:Menlo,'DejaVu Sans Mono',consolas,'Courier New',monospace\"><span style=\"font-weight: bold\"> Total params: </span><span style=\"color: #00af00; text-decoration-color: #00af00\">23,714,324</span> (90.46 MB)\n",
       "</pre>\n"
      ]
     },
     "metadata": {}
    },
    {
     "output_type": "display_data",
     "data": {
      "text/plain": [
       "\u001B[1m Trainable params: \u001B[0m\u001B[38;5;34m181,255\u001B[0m (708.03 KB)\n"
      ],
      "text/html": [
       "<pre style=\"white-space:pre;overflow-x:auto;line-height:normal;font-family:Menlo,'DejaVu Sans Mono',consolas,'Courier New',monospace\"><span style=\"font-weight: bold\"> Trainable params: </span><span style=\"color: #00af00; text-decoration-color: #00af00\">181,255</span> (708.03 KB)\n",
       "</pre>\n"
      ]
     },
     "metadata": {}
    },
    {
     "output_type": "display_data",
     "data": {
      "text/plain": [
       "\u001B[1m Non-trainable params: \u001B[0m\u001B[38;5;34m7,768,569\u001B[0m (29.63 MB)\n"
      ],
      "text/html": [
       "<pre style=\"white-space:pre;overflow-x:auto;line-height:normal;font-family:Menlo,'DejaVu Sans Mono',consolas,'Courier New',monospace\"><span style=\"font-weight: bold\"> Non-trainable params: </span><span style=\"color: #00af00; text-decoration-color: #00af00\">7,768,569</span> (29.63 MB)\n",
       "</pre>\n"
      ]
     },
     "metadata": {}
    },
    {
     "output_type": "display_data",
     "data": {
      "text/plain": [
       "\u001B[1m Optimizer params: \u001B[0m\u001B[38;5;34m15,764,500\u001B[0m (60.14 MB)\n"
      ],
      "text/html": [
       "<pre style=\"white-space:pre;overflow-x:auto;line-height:normal;font-family:Menlo,'DejaVu Sans Mono',consolas,'Courier New',monospace\"><span style=\"font-weight: bold\"> Optimizer params: </span><span style=\"color: #00af00; text-decoration-color: #00af00\">15,764,500</span> (60.14 MB)\n",
       "</pre>\n"
      ]
     },
     "metadata": {}
    }
   ]
  },
  {
   "cell_type": "code",
   "source": [
    "history = model.fit(\n",
    "    train_dataset,\n",
    "    steps_per_epoch=len(Train_paths)//BATCH_SIZE,\n",
    "    epochs=8,\n",
    "    callbacks=[checkpoint , early_stop],\n",
    "    validation_data=val_dataset,\n",
    "    validation_steps = len(Val_paths)//BATCH_SIZE,\n",
    "    class_weight=class_weight\n",
    ")"
   ],
   "metadata": {
    "colab": {
     "base_uri": "https://localhost:8080/"
    },
    "id": "qImNb4GiFQF6",
    "outputId": "b3bd4543-9ae8-4e1f-bd8c-48eefb6bb653"
   },
   "execution_count": 67,
   "outputs": [
    {
     "output_type": "stream",
     "name": "stdout",
     "text": [
      "Epoch 1/8\n",
      "\u001B[1m717/717\u001B[0m \u001B[32m━━━━━━━━━━━━━━━━━━━━\u001B[0m\u001B[37m\u001B[0m \u001B[1m0s\u001B[0m 89ms/step - accuracy: 0.6248 - loss: 1.6720 - precision: 0.7540 - recall: 0.4878\n",
      "Epoch 1: val_loss improved from inf to 1.09597, saving model to best_weights.weights.h5\n",
      "\u001B[1m717/717\u001B[0m \u001B[32m━━━━━━━━━━━━━━━━━━━━\u001B[0m\u001B[37m\u001B[0m \u001B[1m69s\u001B[0m 95ms/step - accuracy: 0.6248 - loss: 1.6721 - precision: 0.7540 - recall: 0.4878 - val_accuracy: 0.5999 - val_loss: 1.0960 - val_precision: 0.7095 - val_recall: 0.4899\n",
      "Epoch 2/8\n",
      "\u001B[1m717/717\u001B[0m \u001B[32m━━━━━━━━━━━━━━━━━━━━\u001B[0m\u001B[37m\u001B[0m \u001B[1m0s\u001B[0m 83ms/step - accuracy: 0.6387 - loss: 1.6130 - precision: 0.7573 - recall: 0.5039\n",
      "Epoch 2: val_loss improved from 1.09597 to 1.03000, saving model to best_weights.weights.h5\n",
      "\u001B[1m717/717\u001B[0m \u001B[32m━━━━━━━━━━━━━━━━━━━━\u001B[0m\u001B[37m\u001B[0m \u001B[1m63s\u001B[0m 89ms/step - accuracy: 0.6387 - loss: 1.6131 - precision: 0.7573 - recall: 0.5039 - val_accuracy: 0.6236 - val_loss: 1.0300 - val_precision: 0.7096 - val_recall: 0.5310\n",
      "Epoch 3/8\n",
      "\u001B[1m717/717\u001B[0m \u001B[32m━━━━━━━━━━━━━━━━━━━━\u001B[0m\u001B[37m\u001B[0m \u001B[1m0s\u001B[0m 82ms/step - accuracy: 0.6425 - loss: 1.5748 - precision: 0.7602 - recall: 0.5181\n",
      "Epoch 3: val_loss did not improve from 1.03000\n",
      "\u001B[1m717/717\u001B[0m \u001B[32m━━━━━━━━━━━━━━━━━━━━\u001B[0m\u001B[37m\u001B[0m \u001B[1m62s\u001B[0m 87ms/step - accuracy: 0.6425 - loss: 1.5748 - precision: 0.7601 - recall: 0.5181 - val_accuracy: 0.5716 - val_loss: 1.1468 - val_precision: 0.6755 - val_recall: 0.4485\n",
      "Epoch 4/8\n",
      "\u001B[1m717/717\u001B[0m \u001B[32m━━━━━━━━━━━━━━━━━━━━\u001B[0m\u001B[37m\u001B[0m \u001B[1m0s\u001B[0m 81ms/step - accuracy: 0.6421 - loss: 1.5874 - precision: 0.7568 - recall: 0.5158\n",
      "Epoch 4: val_loss did not improve from 1.03000\n",
      "\u001B[1m717/717\u001B[0m \u001B[32m━━━━━━━━━━━━━━━━━━━━\u001B[0m\u001B[37m\u001B[0m \u001B[1m62s\u001B[0m 87ms/step - accuracy: 0.6421 - loss: 1.5874 - precision: 0.7568 - recall: 0.5158 - val_accuracy: 0.6145 - val_loss: 1.0539 - val_precision: 0.6966 - val_recall: 0.5308\n",
      "Epoch 5/8\n",
      "\u001B[1m717/717\u001B[0m \u001B[32m━━━━━━━━━━━━━━━━━━━━\u001B[0m\u001B[37m\u001B[0m \u001B[1m0s\u001B[0m 82ms/step - accuracy: 0.6588 - loss: 1.5007 - precision: 0.7683 - recall: 0.5417\n",
      "Epoch 5: val_loss did not improve from 1.03000\n",
      "\u001B[1m717/717\u001B[0m \u001B[32m━━━━━━━━━━━━━━━━━━━━\u001B[0m\u001B[37m\u001B[0m \u001B[1m62s\u001B[0m 87ms/step - accuracy: 0.6588 - loss: 1.5007 - precision: 0.7683 - recall: 0.5417 - val_accuracy: 0.6074 - val_loss: 1.0921 - val_precision: 0.6768 - val_recall: 0.5363\n",
      "Epoch 6/8\n",
      "\u001B[1m717/717\u001B[0m \u001B[32m━━━━━━━━━━━━━━━━━━━━\u001B[0m\u001B[37m\u001B[0m \u001B[1m0s\u001B[0m 82ms/step - accuracy: 0.6648 - loss: 1.4971 - precision: 0.7656 - recall: 0.5486\n",
      "Epoch 6: val_loss did not improve from 1.03000\n",
      "\u001B[1m717/717\u001B[0m \u001B[32m━━━━━━━━━━━━━━━━━━━━\u001B[0m\u001B[37m\u001B[0m \u001B[1m62s\u001B[0m 86ms/step - accuracy: 0.6648 - loss: 1.4971 - precision: 0.7656 - recall: 0.5486 - val_accuracy: 0.5995 - val_loss: 1.1242 - val_precision: 0.6801 - val_recall: 0.5245\n"
     ]
    }
   ]
  },
  {
   "cell_type": "markdown",
   "source": [
    "Testing Phase"
   ],
   "metadata": {
    "id": "ASTfNNovJ9q1"
   }
  },
  {
   "cell_type": "code",
   "source": [
    "from tensorflow.keras.applications import EfficientNetB2\n",
    "\n",
    "backbone = EfficientNetB2(\n",
    "    input_shape=(96, 96, 3),\n",
    "    include_top=False\n",
    ")\n",
    "\n",
    "model = tf.keras.Sequential([\n",
    "    backbone,\n",
    "    tf.keras.layers.GlobalAveragePooling2D(),\n",
    "    tf.keras.layers.Dropout(0.3),\n",
    "    tf.keras.layers.Dense(128, activation='relu'),\n",
    "    tf.keras.layers.Dense(7, activation='softmax')\n",
    "])\n",
    "\n",
    "model.compile(\n",
    "    optimizer=tf.keras.optimizers.Adam(learning_rate=0.001, beta_1=0.9, beta_2=0.999, epsilon=1e-07),\n",
    "    loss = 'categorical_crossentropy',\n",
    "    metrics=['accuracy' , tf.keras.metrics.Precision(name='precision'),tf.keras.metrics.Recall(name='recall')]\n",
    ")"
   ],
   "metadata": {
    "id": "rjAaXX5nKAAN"
   },
   "execution_count": 68,
   "outputs": []
  },
  {
   "cell_type": "code",
   "source": [
    "model.load_weights(\"best_weights.weights.h5\")"
   ],
   "metadata": {
    "colab": {
     "base_uri": "https://localhost:8080/"
    },
    "id": "RQM9J0mtKFFW",
    "outputId": "05ec3fc4-c0e2-4798-d531-fe2c21e72ed0"
   },
   "execution_count": 70,
   "outputs": [
    {
     "output_type": "stream",
     "name": "stderr",
     "text": [
      "/usr/local/lib/python3.10/dist-packages/keras/src/saving/saving_lib.py:713: UserWarning: Skipping variable loading for optimizer 'adam', because it has 2 variables whereas the saved optimizer has 608 variables. \n",
      "  saveable.load_own_variables(weights_store.get(inner_path))\n"
     ]
    }
   ]
  },
  {
   "cell_type": "code",
   "source": [
    "test_image_paths = list(test_path.glob(\"*/*\"))\n",
    "test_image_paths = list(map(lambda x : str(x) , test_image_paths))\n",
    "test_labels = list(map(lambda x : get_label(x) , test_image_paths))\n",
    "\n",
    "test_labels = Le.transform(test_labels)\n",
    "test_labels = tf.keras.utils.to_categorical(test_labels)\n",
    "\n",
    "test_image_paths = tf.convert_to_tensor(test_image_paths)\n",
    "test_labels = tf.convert_to_tensor(test_labels)\n",
    "\n",
    "def decode_image(image , label):\n",
    "    image = tf.io.read_file(image)\n",
    "    image = tf.io.decode_jpeg(image , channels = 3)\n",
    "    image = tf.image.resize(image , [96 , 96] , method=\"bilinear\")\n",
    "    return image , label\n",
    "\n",
    "test_dataset = (\n",
    "     tf.data.Dataset\n",
    "    .from_tensor_slices((test_image_paths, test_labels))\n",
    "    .map(decode_image)\n",
    "    .batch(BATCH_SIZE)\n",
    ")"
   ],
   "metadata": {
    "id": "2aDIkJXAMiWa"
   },
   "execution_count": 71,
   "outputs": []
  },
  {
   "cell_type": "code",
   "source": [
    "image , label = next(iter(test_dataset))\n",
    "print(image.shape)\n",
    "print(label.shape)"
   ],
   "metadata": {
    "colab": {
     "base_uri": "https://localhost:8080/"
    },
    "id": "Av2C9fqaMk1-",
    "outputId": "80de9fcc-bef6-41f8-b2e8-6cac7d4c02de"
   },
   "execution_count": 72,
   "outputs": [
    {
     "output_type": "stream",
     "name": "stdout",
     "text": [
      "(32, 96, 96, 3)\n",
      "(32, 7)\n"
     ]
    }
   ]
  },
  {
   "cell_type": "code",
   "source": [
    "print(Le.inverse_transform(np.argmax(label , axis = 1))[0])\n",
    "plt.imshow((image[0].numpy()/255).reshape(96 , 96 , 3))"
   ],
   "metadata": {
    "colab": {
     "base_uri": "https://localhost:8080/",
     "height": 468
    },
    "id": "Tq6X_B4BMnyK",
    "outputId": "c4b6c762-28b1-4bba-9843-cbb8f7c7cd17"
   },
   "execution_count": 73,
   "outputs": [
    {
     "output_type": "stream",
     "name": "stdout",
     "text": [
      "disgust\n"
     ]
    },
    {
     "output_type": "execute_result",
     "data": {
      "text/plain": [
       "<matplotlib.image.AxesImage at 0x7ba30fd920e0>"
      ]
     },
     "metadata": {},
     "execution_count": 73
    },
    {
     "output_type": "display_data",
     "data": {
      "text/plain": [
       "<Figure size 640x480 with 1 Axes>"
      ],
      "image/png": "[encoded data removed]"
     },
     "metadata": {}
    }
   ]
  },
  {
   "cell_type": "code",
   "source": [
    "loss, acc, prec, rec = model.evaluate(test_dataset)\n",
    "\n",
    "print(\" Testing Acc : \" , acc)\n",
    "print(\" Testing Precision \" , prec)\n",
    "print(\" Testing Recall \" , rec)"
   ],
   "metadata": {
    "colab": {
     "base_uri": "https://localhost:8080/"
    },
    "id": "lK55gqf6Mq2C",
    "outputId": "db955762-475f-4787-83c2-d431ff94a108"
   },
   "execution_count": 74,
   "outputs": [
    {
     "output_type": "stream",
     "name": "stdout",
     "text": [
      "\u001B[1m225/225\u001B[0m \u001B[32m━━━━━━━━━━━━━━━━━━━━\u001B[0m\u001B[37m\u001B[0m \u001B[1m23s\u001B[0m 49ms/step - accuracy: 0.4534 - loss: 1.6048 - precision: 0.6127 - recall: 0.2903\n",
      " Testing Acc :  0.3335190713405609\n",
      " Testing Precision  0.4879084825515747\n",
      " Testing Recall  0.2079966515302658\n"
     ]
    }
   ]
  },
  {
   "cell_type": "markdown",
   "source": [
    "Save Objects"
   ],
   "metadata": {
    "id": "4UoOiMXRMzmJ"
   }
  },
  {
   "cell_type": "code",
   "source": [
    "model.save(\"FacialExpressionModel.h5\")"
   ],
   "metadata": {
    "colab": {
     "base_uri": "https://localhost:8080/"
    },
    "id": "RfqX913FMyn4",
    "outputId": "d9d546b2-1fde-4bcb-9593-7434373730c6"
   },
   "execution_count": 75,
   "outputs": [
    {
     "output_type": "stream",
     "name": "stderr",
     "text": [
      "WARNING:absl:You are saving your model as an HDF5 file via `model.save()` or `keras.saving.save_model(model)`. This file format is considered legacy. We recommend using instead the native Keras format, e.g. `model.save('my_model.keras')` or `keras.saving.save_model(model, 'my_model.keras')`. \n"
     ]
    }
   ]
  },
  {
   "cell_type": "code",
   "source": [
    "import pickle\n",
    "\n",
    "def save_object(obj , name):\n",
    "    pickle_obj = open(f\"{name}.pck\",\"wb\")\n",
    "    pickle.dump(obj, pickle_obj)\n",
    "    pickle_obj.close()"
   ],
   "metadata": {
    "id": "_5ScibRRM-GZ"
   },
   "execution_count": 76,
   "outputs": []
  },
  {
   "cell_type": "code",
   "source": [
    "save_object(Le, \"LabelEncoder\")"
   ],
   "metadata": {
    "id": "QrZiDGvxNAjs"
   },
   "execution_count": 77,
   "outputs": []
  }
 ],
 "metadata": {
  "accelerator": "GPU",
  "colab": {
   "gpuType": "T4",
   "provenance": []
  },
  "kernelspec": {
   "display_name": "Python 3",
   "name": "python3"
  },
  "language_info": {
   "name": "python"
  }
 },
 "nbformat": 4,
 "nbformat_minor": 0
}
